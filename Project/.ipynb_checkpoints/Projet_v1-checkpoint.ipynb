{
 "cells": [
  {
   "cell_type": "code",
   "execution_count": 21,
   "id": "c9bcfc3f-2bf3-4ea9-bf93-f33a24374fcb",
   "metadata": {},
   "outputs": [
    {
     "name": "stdout",
     "output_type": "stream",
     "text": [
      "Random file chosen: C:/Users/genev/projet-prog/AAFC\\MSBNK-AAFC-AC000106.txt\n",
      "Chemical formula : C15H26O3 \n",
      "Molecular weight : 254.18821\n",
      "Spectral data: [[95.0855, 1032519.4375, 69.0], [107.0855, 1191879.0, 79.0], [109.1012, 1045976.875, 70.0], [119.0855, 823258.1875, 54.0], [121.1012, 817776.5625, 54.0], [133.1012, 687493.4375, 45.0], [135.1168, 619693.9375, 41.0], [145.1012, 819443.75, 54.0], [147.1168, 547049.9375, 36.0], [159.1168, 1196179.5, 80.0], [161.1325, 1161440.375, 77.0], [173.1325, 566594.5625, 37.0], [175.1481, 4688467.0, 317.0], [177.1638, 2096588.875, 141.0], [191.1795, 566882.25, 37.0], [201.1638, 3549079.0, 240.0], [219.1744, 14719953.0, 999.0]]\n"
     ]
    },
    {
     "data": {
      "text/plain": [
       "Text(0, 0.5, 'Intensity')"
      ]
     },
     "execution_count": 21,
     "metadata": {},
     "output_type": "execute_result"
    },
    {
     "data": {
      "image/png": "[encoded data removed]",
      "text/plain": [
       "<Figure size 640x480 with 1 Axes>"
      ]
     },
     "metadata": {},
     "output_type": "display_data"
    }
   ],
   "source": [
    "import os\n",
    "import random\n",
    "import matplotlib.pyplot as plt\n",
    "\n",
    "def choose_random_file(folder_path):  # choose a random file in the data base\n",
    "    # Get a list of all files in the folder\n",
    "    files = os.listdir(folder_path)\n",
    "    \n",
    "    # Filter out directories (if any)\n",
    "    files = [f for f in files if os.path.isfile(os.path.join(folder_path, f))]\n",
    "    \n",
    "    # Choose a random file from the list\n",
    "    random_file = random.choice(files)\n",
    "    \n",
    "    # Return the full path to the random file\n",
    "    return os.path.join(folder_path, random_file)\n",
    "\n",
    "folder_path = 'C:/Users/genev/projet-prog/AAFC'\n",
    "random_file = choose_random_file(folder_path)\n",
    "print(\"Random file chosen:\", random_file)\n",
    "\n",
    "def get_theoretical_data(file_path, marker): # return the molecular formula and molecular mass of the random molecule\n",
    "    try: \n",
    "        with open(file_path, 'r') as file:\n",
    "            # Flag to indicate whether the marker has been found\n",
    "            marker_found = False\n",
    "            \n",
    "            # Read lines from the file\n",
    "            for line in file:\n",
    "                # Check if the marker is found in the line\n",
    "                if marker in line:\n",
    "                    # Extract the data after the marker\n",
    "                    data = line.split(marker)[-1].strip()\n",
    "                    \n",
    "                    # Set the flag to True\n",
    "                    marker_found = True\n",
    "                    \n",
    "                    # Exit the loop after finding the marker\n",
    "                    break\n",
    "            \n",
    "            # Check if the marker was found\n",
    "            if not marker_found:\n",
    "                print(f\"The marker '{marker}' was not found in the file.\")\n",
    "                return None\n",
    "            \n",
    "            # Read and neglect any remaining lines after the marker\n",
    "            for line in file:\n",
    "                # Check if the line is empty or contains only whitespace\n",
    "                if not line.strip():\n",
    "                    continue  # Skip empty lines\n",
    "                \n",
    "                # Check if the line starts with the marker\n",
    "                if line.strip().startswith(marker):\n",
    "                    break  # Stop reading lines after encountering the marker\n",
    "            \n",
    "            return data\n",
    "            \n",
    "    except Exception as e:\n",
    "        print(f\"Error reading file: {e}\")\n",
    "        return None\n",
    "\n",
    "marker1 = \"CH$FORMULA\"\n",
    "marker2 = \"CH$EXACT_MASS\"\n",
    "molecular_formula = get_theoretical_data(random_file, marker1)\n",
    "molecular_weight = get_theoretical_data(random_file, marker2)\n",
    "if molecular_formula and molecular_weight is not None:\n",
    "    print(f\"Chemical formula {molecular_formula} \\nMolecular weight {molecular_weight}\")\n",
    "\n",
    "def extract_spectral_data(file_path, start_marker, stop_marker):\n",
    "    spectra = []\n",
    "\n",
    "    try:\n",
    "        with open(file_path, 'r') as file:\n",
    "            # Flag to indicate whether the start marker has been found\n",
    "            start_marker_found = False\n",
    "            \n",
    "            # Read lines from the file\n",
    "            for line in file:\n",
    "                # Check if the start marker is found in the line\n",
    "                if start_marker in line:\n",
    "                    start_marker_found = True\n",
    "                    continue  # Skip the line containing the start marker\n",
    "                \n",
    "                # If the start marker has been found, extract spectral data\n",
    "                if start_marker_found:\n",
    "                    # Check if the stop marker is found in the line\n",
    "                    if stop_marker in line:\n",
    "                        break  # Stop reading if the stop marker is found\n",
    "                    \n",
    "                    # Split the line into columns (assuming space-separated values)\n",
    "                    columns = line.strip().split()\n",
    "                    \n",
    "                    # Convert columns to numerical values\n",
    "                    spectrum = [float(column) for column in columns]\n",
    "                    \n",
    "                    # Add the spectrum to the list of spectra\n",
    "                    spectra.append(spectrum)\n",
    "                    \n",
    "    except Exception as e:\n",
    "        print(f\"Error reading file: {e}\")\n",
    "\n",
    "    return spectra\n",
    "\n",
    "start_marker = 'PK$PEAK'\n",
    "stop_marker = '//'\n",
    "spectra = extract_spectral_data(random_file, start_marker, stop_marker)\n",
    "print(\"Spectral data:\", spectra)\n",
    "\n",
    "#plot the spectrum\n",
    "mz = [x[0] for x in spectra]\n",
    "intensity = [x[2] for x in spectra]\n",
    "fig, ax = plt.subplots()\n",
    "ax.bar(mz, intensity, color='red', width=1)\n",
    "ax.set_xlabel('m/z')\n",
    "ax.set_ylabel('Intensity')"
   ]
  },
  {
   "cell_type": "code",
   "execution_count": null,
   "id": "76df0989-c5af-4194-9395-3acc76f896be",
   "metadata": {},
   "outputs": [],
   "source": []
  }
 ],
 "metadata": {
  "kernelspec": {
   "display_name": "Python 3 (ipykernel)",
   "language": "python",
   "name": "python3"
  },
  "language_info": {
   "codemirror_mode": {
    "name": "ipython",
    "version": 3
   },
   "file_extension": ".py",
   "mimetype": "text/x-python",
   "name": "python",
   "nbconvert_exporter": "python",
   "pygments_lexer": "ipython3",
   "version": "3.10.13"
  }
 },
 "nbformat": 4,
 "nbformat_minor": 5
}
